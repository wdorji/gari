{
  "cells": [
    {
      "cell_type": "code",
      "execution_count": null,
      "metadata": {
        "colab": {
          "base_uri": "https://localhost:8080/"
        },
        "id": "MO9ZQfcVn4il",
        "outputId": "7b2da988-b3a5-4e71-8865-930427d9a286"
      },
      "outputs": [
        {
          "output_type": "stream",
          "name": "stdout",
          "text": [
            "Requirement already satisfied: earthengine-api in /usr/local/lib/python3.10/dist-packages (0.1.374)\n",
            "Requirement already satisfied: google-cloud-storage in /usr/local/lib/python3.10/dist-packages (from earthengine-api) (2.8.0)\n",
            "Requirement already satisfied: google-api-python-client>=1.12.1 in /usr/local/lib/python3.10/dist-packages (from earthengine-api) (2.84.0)\n",
            "Requirement already satisfied: google-auth>=1.4.1 in /usr/local/lib/python3.10/dist-packages (from earthengine-api) (2.17.3)\n",
            "Requirement already satisfied: google-auth-httplib2>=0.0.3 in /usr/local/lib/python3.10/dist-packages (from earthengine-api) (0.1.1)\n",
            "Requirement already satisfied: httplib2<1dev,>=0.9.2 in /usr/local/lib/python3.10/dist-packages (from earthengine-api) (0.22.0)\n",
            "Requirement already satisfied: requests in /usr/local/lib/python3.10/dist-packages (from earthengine-api) (2.31.0)\n",
            "Requirement already satisfied: google-api-core!=2.0.*,!=2.1.*,!=2.2.*,!=2.3.0,<3.0.0dev,>=1.31.5 in /usr/local/lib/python3.10/dist-packages (from google-api-python-client>=1.12.1->earthengine-api) (2.11.1)\n",
            "Requirement already satisfied: uritemplate<5,>=3.0.1 in /usr/local/lib/python3.10/dist-packages (from google-api-python-client>=1.12.1->earthengine-api) (4.1.1)\n",
            "Requirement already satisfied: cachetools<6.0,>=2.0.0 in /usr/local/lib/python3.10/dist-packages (from google-auth>=1.4.1->earthengine-api) (5.3.1)\n",
            "Requirement already satisfied: pyasn1-modules>=0.2.1 in /usr/local/lib/python3.10/dist-packages (from google-auth>=1.4.1->earthengine-api) (0.3.0)\n",
            "Requirement already satisfied: six>=1.9.0 in /usr/local/lib/python3.10/dist-packages (from google-auth>=1.4.1->earthengine-api) (1.16.0)\n",
            "Requirement already satisfied: rsa<5,>=3.1.4 in /usr/local/lib/python3.10/dist-packages (from google-auth>=1.4.1->earthengine-api) (4.9)\n",
            "Requirement already satisfied: pyparsing!=3.0.0,!=3.0.1,!=3.0.2,!=3.0.3,<4,>=2.4.2 in /usr/local/lib/python3.10/dist-packages (from httplib2<1dev,>=0.9.2->earthengine-api) (3.1.1)\n",
            "Requirement already satisfied: google-cloud-core<3.0dev,>=2.3.0 in /usr/local/lib/python3.10/dist-packages (from google-cloud-storage->earthengine-api) (2.3.3)\n",
            "Requirement already satisfied: google-resumable-media>=2.3.2 in /usr/local/lib/python3.10/dist-packages (from google-cloud-storage->earthengine-api) (2.6.0)\n",
            "Requirement already satisfied: charset-normalizer<4,>=2 in /usr/local/lib/python3.10/dist-packages (from requests->earthengine-api) (3.3.0)\n",
            "Requirement already satisfied: idna<4,>=2.5 in /usr/local/lib/python3.10/dist-packages (from requests->earthengine-api) (3.4)\n",
            "Requirement already satisfied: urllib3<3,>=1.21.1 in /usr/local/lib/python3.10/dist-packages (from requests->earthengine-api) (2.0.6)\n",
            "Requirement already satisfied: certifi>=2017.4.17 in /usr/local/lib/python3.10/dist-packages (from requests->earthengine-api) (2023.7.22)\n",
            "Requirement already satisfied: googleapis-common-protos<2.0.dev0,>=1.56.2 in /usr/local/lib/python3.10/dist-packages (from google-api-core!=2.0.*,!=2.1.*,!=2.2.*,!=2.3.0,<3.0.0dev,>=1.31.5->google-api-python-client>=1.12.1->earthengine-api) (1.60.0)\n",
            "Requirement already satisfied: protobuf!=3.20.0,!=3.20.1,!=4.21.0,!=4.21.1,!=4.21.2,!=4.21.3,!=4.21.4,!=4.21.5,<5.0.0.dev0,>=3.19.5 in /usr/local/lib/python3.10/dist-packages (from google-api-core!=2.0.*,!=2.1.*,!=2.2.*,!=2.3.0,<3.0.0dev,>=1.31.5->google-api-python-client>=1.12.1->earthengine-api) (3.20.3)\n",
            "Requirement already satisfied: google-crc32c<2.0dev,>=1.0 in /usr/local/lib/python3.10/dist-packages (from google-resumable-media>=2.3.2->google-cloud-storage->earthengine-api) (1.5.0)\n",
            "Requirement already satisfied: pyasn1<0.6.0,>=0.4.6 in /usr/local/lib/python3.10/dist-packages (from pyasn1-modules>=0.2.1->google-auth>=1.4.1->earthengine-api) (0.5.0)\n"
          ]
        }
      ],
      "source": [
        "!pip install earthengine-api #earth-engine Python API"
      ],
      "id": "MO9ZQfcVn4il"
    },
    {
      "cell_type": "code",
      "execution_count": null,
      "metadata": {
        "colab": {
          "base_uri": "https://localhost:8080/"
        },
        "id": "y1ZNk9lmoB-v",
        "outputId": "36d57046-ac54-4cfe-bfaf-932f3aa201df"
      },
      "outputs": [
        {
          "output_type": "stream",
          "name": "stdout",
          "text": [
            "To authorize access needed by Earth Engine, open the following URL in a web browser and follow the instructions. If the web browser does not start automatically, please manually browse the URL below.\n",
            "\n",
            "    https://code.earthengine.google.com/client-auth?scopes=https%3A//www.googleapis.com/auth/earthengine%20https%3A//www.googleapis.com/auth/devstorage.full_control&request_id=p3zO0-FjxZYXcYXi-nBO_VNC2_BzSCuqswE0SUKjEHw&tc=3uJECtAYTLSKf0N1ekow_fVgwKCyvspMis15ELTE6I4&cc=N3TpULXl6_0dHQTMqhPaMAnurm3rMr1oLrKTzHUCpbw\n",
            "\n",
            "The authorization workflow will generate a code, which you should paste in the box below.\n",
            "Enter verification code: 4/1AfJohXnTjefF2NVjKPhbcP10Ax1bZw0tun1AWkGJZPnX1XaCi52gJJfM6zI\n",
            "\n",
            "Successfully saved authorization token.\n"
          ]
        }
      ],
      "source": [
        "!earthengine authenticate"
      ],
      "id": "y1ZNk9lmoB-v"
    },
    {
      "cell_type": "code",
      "execution_count": null,
      "metadata": {
        "colab": {
          "base_uri": "https://localhost:8080/"
        },
        "id": "0CZ84JYYoFGo",
        "outputId": "bff16c1c-fcd5-4bd0-c54d-98a0cc1b2f66"
      },
      "outputs": [
        {
          "output_type": "stream",
          "name": "stdout",
          "text": [
            "Mounted at /content/drive\n"
          ]
        }
      ],
      "source": [
        "from google.colab import drive\n",
        "drive.mount('/content/drive')"
      ],
      "id": "0CZ84JYYoFGo"
    },
    {
      "cell_type": "code",
      "execution_count": null,
      "metadata": {
        "id": "vpdGMg_joHud"
      },
      "outputs": [],
      "source": [
        "from google.colab import auth\n",
        "auth.authenticate_user()"
      ],
      "id": "vpdGMg_joHud"
    },
    {
      "cell_type": "code",
      "execution_count": null,
      "metadata": {
        "id": "2i-6Kak5ndlB"
      },
      "outputs": [],
      "source": [
        "from geopandas import geopandas\n",
        "from shapely.geometry import LineString\n",
        "import json\n",
        "import ee\n",
        "import numpy as np\n",
        "ee.Initialize()\n",
        "road_df = geopandas.read_file(\"/content/drive/MyDrive/bt_roads.json\")\n",
        "geo_json = road_df.to_json()\n",
        "elevation = ee.Image(\"USGS/SRTMGL1_003\")\n",
        "road_df[\"lineString\"] = road_df.apply(lambda r: LineString(r.geometry.geoms[0].coords), axis=1)"
      ],
      "id": "2i-6Kak5ndlB"
    },
    {
      "cell_type": "code",
      "execution_count": null,
      "metadata": {
        "id": "foD5J32UnTVs"
      },
      "outputs": [],
      "source": [
        "def calculate_angle(p0, p1, p2):\n",
        "    a = np.array(p0)\n",
        "    b = np.array(p1)\n",
        "    c = np.array(p2)\n",
        "\n",
        "    ba = a - b\n",
        "    bc = c - b\n",
        "\n",
        "    cosine_angle = np.dot(ba, bc) / (np.linalg.norm(ba) * np.linalg.norm(bc))\n",
        "\n",
        "    # Clamp the value to the domain of arccos\n",
        "    cosine_angle = np.clip(cosine_angle, -1, 1)\n",
        "\n",
        "    angle = np.arccos(cosine_angle)\n",
        "\n",
        "    return np.degrees(angle)\n",
        "\n",
        "def calculate_slope(cur_coords):\n",
        "  ee_multipolygon = ee.Geometry.MultiPolygon(LineString(cur_coords).buffer(0.0005).__geo_interface__[\"coordinates\"])\n",
        "\n",
        "  # Calculate the average elevation within the MultiPolygon\n",
        "  elevation_stats = elevation.reduceRegion(\n",
        "      reducer=ee.Reducer.mean(),\n",
        "      geometry=ee_multipolygon,\n",
        "      scale=30,  # Specify the scale (in meters)\n",
        "  )\n",
        "\n",
        "  # Calculate the slope within the MultiPolygon\n",
        "  slope = ee.Terrain.slope(elevation)\n",
        "  slope_stats = slope.reduceRegion(\n",
        "      reducer=ee.Reducer.mean(),\n",
        "      geometry=ee_multipolygon,\n",
        "      scale=30,  # Specify the scale (in meters)\n",
        "  )\n",
        "\n",
        "  average_slope = round(slope_stats.get(\"slope\").getInfo()  , 1)\n",
        "  # Clip elevation data to the country boundary\n",
        "  clipped_elevation = elevation.clip(ee_multipolygon)\n",
        "\n",
        "  # Calculate slope\n",
        "  slope = ee.Terrain.slope(clipped_elevation)\n",
        "\n",
        "  # Define a threshold for slope (40 degrees)\n",
        "  slope_threshold = 0\n",
        "\n",
        "  # Create a binary image where slope > 40 is 1, else 0\n",
        "  slope_gt_threshold = slope.gt(slope_threshold)\n",
        "\n",
        "  # Check if there are any pixels with slope > 40\n",
        "  any_pixels_gt_40 = slope_gt_threshold.reduceRegion(\n",
        "      reducer=ee.Reducer.mean(),\n",
        "      geometry=ee_multipolygon,\n",
        "      scale=30,  # Adjust scale as needed\n",
        "      maxPixels=1e9  # Adjust maxPixels as needed\n",
        "  )\n",
        "\n",
        "  # Print the result\n",
        "  average_slope = round(slope_stats.get(\"slope\").getInfo()  , 1)\n",
        "\n",
        "  return average_slope\n",
        "\n",
        "\n",
        "# def calculate_slope(cur_coords):\n",
        "#   ee_multipolygon = ee.Geometry.MultiPolygon(LineString(cur_coords).buffer(0.005, single_sided=True).__geo_interface__[\"coordinates\"])\n",
        "#   ee_multipolygon_1 = ee.Geometry.MultiPolygon(LineString(cur_coords).buffer(-0.005, single_sided=True).__geo_interface__[\"coordinates\"])\n",
        "\n",
        "#   # Calculate the average elevation within the MultiPolygon\n",
        "#   elevation_stats = elevation.reduceRegion(\n",
        "#       reducer=ee.Reducer.mean(),\n",
        "#       geometry=ee_multipolygon,\n",
        "#       scale=30,  # Specify the scale (in meters)\n",
        "#   )\n",
        "\n",
        "#   elevation_stats_1 = elevation.reduceRegion(\n",
        "#       reducer=ee.Reducer.mean(),\n",
        "#       geometry=ee_multipolygon_1,\n",
        "#       scale=30,  # Specify the scale (in meters)\n",
        "#   )\n",
        "\n",
        "#   if elevation_stats_1.get(\"elevation\").getInfo() > elevation_stats.get(\"elevation\").getInfo():\n",
        "\n",
        "#     elevation_stats = elevation_stats_1\n",
        "#     ee_multipolygon = ee_multipolygon_1\n",
        "\n",
        "#   # Calculate the slope within the MultiPolygon\n",
        "#   slope = ee.Terrain.slope(elevation)\n",
        "#   slope_stats = slope.reduceRegion(\n",
        "#       reducer=ee.Reducer.mean(),\n",
        "#       geometry=ee_multipolygon,\n",
        "#       scale=30,  # Specify the scale (in meters)\n",
        "#   )\n",
        "\n",
        "  # average_slope = round(slope_stats.get(\"slope\").getInfo()  , 1)\n",
        "  # if average_slope > 40:\n",
        "  #   print(average_slope)\n",
        "\n",
        "  # return average_slope\n"
      ],
      "id": "foD5J32UnTVs"
    },
    {
      "cell_type": "code",
      "execution_count": null,
      "metadata": {
        "id": "NIokNfyJGIfj"
      },
      "outputs": [],
      "source": [
        "landslide_marker = {}\n",
        "visited_slopes = []\n",
        "from tqdm import tqdm\n",
        "\n",
        "\n",
        "for lstring in tqdm(road_df[\"lineString\"]):\n",
        "  coords = lstring.coords\n",
        "  i = 1\n",
        "  for i in range(0, len(coords), 50):\n",
        "    try:\n",
        "      slope = calculate_slope(coords[i: i+50])\n",
        "      print(slope)\n",
        "    except:\n",
        "      continue\n",
        "    if slope > 25:\n",
        "\n",
        "      visited_slopes.append(coords[i])\n",
        "      landslide_marker[str(coords[i: i+50])] = slope\n",
        "      break\n"
      ],
      "id": "NIokNfyJGIfj"
    },
    {
      "cell_type": "code",
      "source": [
        "import json\n",
        "\n",
        "with open('/content/drive/MyDrive/bt_slopes.json', 'w') as file:\n",
        "    json.dump(ls_markers, file)\n",
        "\n",
        "curvy_marker_str_keys = {str(key): value for key, value in landslide_marker.items()}\n",
        "\n",
        "with open('/content/drive/MyDrive/bt_curves_slopes.json', 'w') as file:\n",
        "    json.dump(curvy_marker_str_keys, file)"
      ],
      "metadata": {
        "id": "t1SPw54Vl0ZF"
      },
      "id": "t1SPw54Vl0ZF",
      "execution_count": null,
      "outputs": []
    },
    {
      "cell_type": "code",
      "source": [
        "ls_markers = []\n",
        "for i in visited_slopes:\n",
        "  item = {}\n",
        "  item[\"long\"] = i[0]\n",
        "  item[\"lat\"] = i[1]\n",
        "\n",
        "  ls_markers.append(item)"
      ],
      "metadata": {
        "id": "-jQAaenmG04w"
      },
      "id": "-jQAaenmG04w",
      "execution_count": null,
      "outputs": []
    },
    {
      "cell_type": "code",
      "execution_count": null,
      "metadata": {
        "id": "1u99pFsxh0B-"
      },
      "outputs": [],
      "source": [
        "curvy_marker = {}\n",
        "visited_corners = []\n",
        "from tqdm import tqdm\n",
        "\n",
        "def get_route(currCoords, i):\n",
        "  curr_path = []\n",
        "  for i in range(i, len(coords)-1):\n",
        "    p0 = coords[i-1]\n",
        "    p1 = coords[i]\n",
        "    p2 = coords[i+1]\n",
        "    angle = calculate_angle(p0, p1, p2)\n",
        "    if 40 <= angle <= 140:\n",
        "      curr_path.append(list(p1))\n",
        "      curvy_marker[p1] = angle\n",
        "    else:\n",
        "      return curr_path, i\n",
        "  return curr_path, i\n",
        "\n",
        "\n",
        "for lstring in tqdm(road_df[\"lineString\"]):\n",
        "  coords = lstring.coords\n",
        "  i = 1\n",
        "  while i < len(coords)-1:\n",
        "    path, i = get_route(coords, i)\n",
        "    if len(path) > 0:\n",
        "      visited_corners.append(path)\n",
        "      i +=50\n",
        "    i+=1"
      ],
      "id": "1u99pFsxh0B-"
    },
    {
      "cell_type": "code",
      "execution_count": null,
      "metadata": {
        "id": "o-Qo1Qn02pD3"
      },
      "outputs": [],
      "source": [
        "for lstring in tqdm(road_df[\"lineString\"]):\n",
        "  j = lstring\n",
        "  break"
      ],
      "id": "o-Qo1Qn02pD3"
    },
    {
      "cell_type": "code",
      "execution_count": null,
      "metadata": {
        "id": "1H7F4tx9m8Wn"
      },
      "outputs": [],
      "source": [
        "import json\n",
        "\n",
        "with open('/content/drive/MyDrive/bt_curves.json', 'w') as file:\n",
        "    json.dump(curved_markers, file)\n",
        "\n",
        "curvy_marker_str_keys = {str(key): value for key, value in curvy_marker.items()}\n",
        "\n",
        "with open('/content/drive/MyDrive/bt_curves_angle.json', 'w') as file:\n",
        "    json.dump(curvy_marker_str_keys, file)"
      ],
      "id": "1H7F4tx9m8Wn"
    },
    {
      "cell_type": "code",
      "execution_count": null,
      "metadata": {
        "id": "Vl-HP-cioRHu"
      },
      "outputs": [],
      "source": [
        "curved_markers = []\n",
        "for i in visited_corners:\n",
        "  item = {}\n",
        "  item[\"long\"] = i[0][0]\n",
        "  item[\"lat\"] = i[0][1]\n",
        "  item[\"markerType\"] = \"curveMarker\"\n",
        "\n",
        "  curved_markers.append(item)"
      ],
      "id": "Vl-HP-cioRHu"
    },
    {
      "cell_type": "code",
      "execution_count": null,
      "metadata": {
        "id": "P9xNH8ovgEGp"
      },
      "outputs": [],
      "source": [
        "import ee\n",
        "\n",
        "# Initialize Earth Engine\n",
        "ee.Initialize()\n",
        "\n",
        "# Load elevation data (SRTM) and country boundary\n",
        "elevation = ee.Image(\"USGS/SRTMGL1_003\")\n",
        "ee_multipolygon = ee.Geometry.MultiPolygon(j.buffer(0.0005).__geo_interface__[\"coordinates\"])\n",
        "\n",
        "# Clip elevation data to the country boundary\n",
        "clipped_elevation = elevation.clip(ee_multipolygon)\n",
        "\n",
        "# Calculate slope\n",
        "slope = ee.Terrain.slope(clipped_elevation)\n",
        "\n",
        "# Define a threshold for slope (40 degrees)\n",
        "slope_threshold = 0\n",
        "\n",
        "# Create a binary image where slope > 40 is 1, else 0\n",
        "slope_gt_threshold = slope.gt(slope_threshold)\n",
        "\n",
        "# Check if there are any pixels with slope > 40\n",
        "any_pixels_gt_40 = slope_gt_threshold.reduceRegion(\n",
        "    reducer=ee.Reducer.anyNonZero(),\n",
        "    geometry=ee_multipolygon,\n",
        "    scale=30,  # Adjust scale as needed\n",
        "    maxPixels=1e9  # Adjust maxPixels as needed\n",
        ")\n",
        "\n",
        "# Print the result\n",
        "print(\"Are there any pixels with slope > 40?\", any_pixels_gt_40.get('slope').getInfo())\n"
      ],
      "id": "P9xNH8ovgEGp"
    }
  ],
  "metadata": {
    "colab": {
      "provenance": []
    },
    "kernelspec": {
      "display_name": "Python 3",
      "language": "python",
      "name": "python3"
    }
  },
  "nbformat": 4,
  "nbformat_minor": 5
}